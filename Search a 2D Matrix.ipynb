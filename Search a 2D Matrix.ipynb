{
 "cells": [
  {
   "cell_type": "code",
   "execution_count": 1,
   "metadata": {},
   "outputs": [],
   "source": [
    "matrix = [[1,3,5,7],[10,11,16,20],[23,30,34,60]]"
   ]
  },
  {
   "cell_type": "code",
   "execution_count": 8,
   "metadata": {},
   "outputs": [],
   "source": [
    "# m.logn\n",
    "from typing import List \n",
    "\n",
    "class Solution:\n",
    "    def searchMatrix(self, matrix: List[List[int]], target: int) -> bool:\n",
    "        rows, cols = len(matrix), len(matrix[0])\n",
    "        fp, lp = 0, rows - 1               \n",
    "        row = (fp + lp) // 2 \n",
    "\n",
    "        # satır bazında arıyorum\n",
    "        while fp <= lp:\n",
    "            if target > matrix[row][-1]:\n",
    "                fp = row + 1\n",
    "            elif target < matrix[row][0]:\n",
    "                lp = row - 1\n",
    "            else:\n",
    "                break \n",
    "\n",
    "        # sıralı olup olmadığını kontrol ediyorum\n",
    "        if not (fp <= lp):\n",
    "            return False    \n",
    "        l, r = 0, cols - 1 \n",
    "        while l <= r: \n",
    "            m = (l + r) // 2 \n",
    "            if target > matrix[row][m]:\n",
    "                l = m + 1\n",
    "            elif target < matrix[row][m]:\n",
    "                r = m - 1\n",
    "            else:\n",
    "                return True \n",
    "        return False \n",
    "                \n",
    "            \n",
    "\n",
    "\n",
    "\n",
    "\n",
    "\n"
   ]
  },
  {
   "cell_type": "code",
   "execution_count": 11,
   "metadata": {},
   "outputs": [
    {
     "data": {
      "text/plain": [
       "True"
      ]
     },
     "execution_count": 11,
     "metadata": {},
     "output_type": "execute_result"
    }
   ],
   "source": [
    "n = Solution()\n",
    "n.searchMatrix(matrix,3)"
   ]
  }
 ],
 "metadata": {
  "kernelspec": {
   "display_name": "Python 3.8.8 ('base')",
   "language": "python",
   "name": "python3"
  },
  "language_info": {
   "codemirror_mode": {
    "name": "ipython",
    "version": 3
   },
   "file_extension": ".py",
   "mimetype": "text/x-python",
   "name": "python",
   "nbconvert_exporter": "python",
   "pygments_lexer": "ipython3",
   "version": "3.8.8"
  },
  "orig_nbformat": 4,
  "vscode": {
   "interpreter": {
    "hash": "c3c8ed4c87010385551ca086cfee93e998268a061c0c4fea2fc5f5fb4efb51e4"
   }
  }
 },
 "nbformat": 4,
 "nbformat_minor": 2
}
