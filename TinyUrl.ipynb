{
 "cells": [
  {
   "cell_type": "code",
   "execution_count": 1,
   "metadata": {},
   "outputs": [],
   "source": [
    "class Codec:\n",
    "\n",
    "    def __init__(self):\n",
    "        self.encodingMap = {}\n",
    "        self.decodingMap = {}\n",
    "        self.baseUrl = \"https://tinyurl.com/\"\n",
    "\n",
    "    def encode(self, longUrl:str) -> str:\n",
    "        if longUrl not in self.encodingMap:\n",
    "            shortUrl = self.baseUrl + str(len(self.encodingMap) + 1)\n",
    "            self.encodingMap[longUrl] = shortUrl\n",
    "            self.decodingMap[shortUrl] = longUrl\n",
    "        return self.encodingMap[longUrl]\n",
    "        \n",
    "\n",
    "    def decode(self, shortUrl: str) -> str:\n",
    "        return self.decodingMap[shortUrl]"
   ]
  },
  {
   "cell_type": "code",
   "execution_count": 2,
   "metadata": {},
   "outputs": [
    {
     "data": {
      "text/plain": [
       "'https://tinyurl.com/1'"
      ]
     },
     "execution_count": 2,
     "metadata": {},
     "output_type": "execute_result"
    }
   ],
   "source": [
    "codec = Codec()\n",
    "codec.encode('https://numanselalmaz.com/train/train')"
   ]
  },
  {
   "cell_type": "code",
   "execution_count": 3,
   "metadata": {},
   "outputs": [
    {
     "data": {
      "text/plain": [
       "'https://numanselalmaz.com/train/train'"
      ]
     },
     "execution_count": 3,
     "metadata": {},
     "output_type": "execute_result"
    }
   ],
   "source": [
    "codec.decode('https://tinyurl.com/1')"
   ]
  }
 ],
 "metadata": {
  "kernelspec": {
   "display_name": "Python 3.8.8 ('base')",
   "language": "python",
   "name": "python3"
  },
  "language_info": {
   "codemirror_mode": {
    "name": "ipython",
    "version": 3
   },
   "file_extension": ".py",
   "mimetype": "text/x-python",
   "name": "python",
   "nbconvert_exporter": "python",
   "pygments_lexer": "ipython3",
   "version": "3.8.8"
  },
  "orig_nbformat": 4,
  "vscode": {
   "interpreter": {
    "hash": "c3c8ed4c87010385551ca086cfee93e998268a061c0c4fea2fc5f5fb4efb51e4"
   }
  }
 },
 "nbformat": 4,
 "nbformat_minor": 2
}
