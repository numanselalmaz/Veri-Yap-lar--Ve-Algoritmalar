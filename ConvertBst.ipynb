{
 "cells": [
  {
   "cell_type": "code",
   "execution_count": 2,
   "metadata": {},
   "outputs": [],
   "source": [
    "from typing import Optional\n",
    "\n",
    "\n",
    "class TreeNode:\n",
    "   def __init__(self, val=0, left=None, right=None):\n",
    "        self.val = val\n",
    "        self.left = left\n",
    "        self.right = right\n",
    "\n",
    "class Solution:\n",
    "    def convertBST(self, root: Optional[TreeNode]) -> Optional[TreeNode]:\n",
    "        sumOfValues = 0\n",
    "        \n",
    "        def traversal(node):\n",
    "            if not node:\n",
    "                return\n",
    "            \n",
    "            nonlocal sumOfValues\n",
    "            traversal(node.right)\n",
    "            temp = node.val\n",
    "            node.val += sumOfValues\n",
    "            sumOfValues += temp\n",
    "            traversal(node.left)\n",
    "        \n",
    "        traversal(root)\n",
    "        return root"
   ]
  }
 ],
 "metadata": {
  "kernelspec": {
   "display_name": "Python 3.8.8 ('base')",
   "language": "python",
   "name": "python3"
  },
  "language_info": {
   "codemirror_mode": {
    "name": "ipython",
    "version": 3
   },
   "file_extension": ".py",
   "mimetype": "text/x-python",
   "name": "python",
   "nbconvert_exporter": "python",
   "pygments_lexer": "ipython3",
   "version": "3.8.8"
  },
  "orig_nbformat": 4,
  "vscode": {
   "interpreter": {
    "hash": "c3c8ed4c87010385551ca086cfee93e998268a061c0c4fea2fc5f5fb4efb51e4"
   }
  }
 },
 "nbformat": 4,
 "nbformat_minor": 2
}
