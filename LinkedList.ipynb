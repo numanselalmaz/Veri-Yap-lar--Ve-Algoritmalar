{
 "cells": [
  {
   "cell_type": "markdown",
   "metadata": {},
   "source": [
    "## Linked List\n",
    "Linked list, her elemanın bir değerinin yanında bir de referans içerdiği veri yapısdır. Bağlı listeler en basit ve en çok kullanılan veri yapılarındandır."
   ]
  },
  {
   "cell_type": "markdown",
   "metadata": {},
   "source": [
    "## Doubly Linked List\n",
    "\n",
    "Bilgisayar biliminde, çift bağlantılı bir liste, düğüm adı verilen sıralı olarak bağlı bir dizi kayıttan oluşan bağlantılı bir veri yapısıdır. Her düğüm üç alan içerir: İki bağlantı alanı ve bir veri alanı."
   ]
  },
  {
   "cell_type": "markdown",
   "metadata": {},
   "source": [
    "## List Vs Linked List \n",
    "1. Append ==> List = O(1), Linked List = O(1)\n",
    "2. Pop ==> List = O(1), Linked List = O(n)\n",
    "3. Propend ==> List = O(n), Linked List = O(1)\n",
    "4. Pop First==> List = O(n), Linked List = O(1)\n",
    "5. Acces(Index) ==> List = O(1), Linked List = O(n)\n",
    "6. Acces(Value) ==> List = O(n), Linked List = O(n)\n",
    "7. Remove ==> List = O(n), Linked List = O(n)\n",
    "8. Insert ==> List = O(n), Linked List = O(n)"
   ]
  },
  {
   "cell_type": "code",
   "execution_count": 2,
   "metadata": {},
   "outputs": [],
   "source": [
    "#Singly Linked List\n",
    "class Node():\n",
    "    def __init__(self,value):\n",
    "        self.value = value\n",
    "        self.nextNode = None"
   ]
  },
  {
   "cell_type": "code",
   "execution_count": 3,
   "metadata": {},
   "outputs": [],
   "source": [
    "firstNode = Node(10)\n",
    "secondNode = Node(20)\n",
    "thirdNode = Node(40)"
   ]
  },
  {
   "cell_type": "code",
   "execution_count": 4,
   "metadata": {},
   "outputs": [],
   "source": [
    "firstNode.nextNode = secondNode\n",
    "secondNode.nextNode = thirdNode"
   ]
  },
  {
   "cell_type": "code",
   "execution_count": 5,
   "metadata": {},
   "outputs": [
    {
     "data": {
      "text/plain": [
       "20"
      ]
     },
     "execution_count": 5,
     "metadata": {},
     "output_type": "execute_result"
    }
   ],
   "source": [
    "firstNode.nextNode.value"
   ]
  },
  {
   "cell_type": "code",
   "execution_count": 6,
   "metadata": {},
   "outputs": [
    {
     "data": {
      "text/plain": [
       "40"
      ]
     },
     "execution_count": 6,
     "metadata": {},
     "output_type": "execute_result"
    }
   ],
   "source": [
    "firstNode.nextNode.nextNode.value"
   ]
  },
  {
   "cell_type": "code",
   "execution_count": 7,
   "metadata": {},
   "outputs": [],
   "source": [
    "class DoublyNode():\n",
    "    \n",
    "    def __init__(self,value):\n",
    "        self.value = value\n",
    "        self.nextNode = None\n",
    "        self.prevNode = None"
   ]
  },
  {
   "cell_type": "code",
   "execution_count": 8,
   "metadata": {},
   "outputs": [],
   "source": [
    "x = DoublyNode(5)\n",
    "y = DoublyNode(25)\n",
    "z = DoublyNode(35)"
   ]
  },
  {
   "cell_type": "code",
   "execution_count": 13,
   "metadata": {},
   "outputs": [],
   "source": [
    "x.nextNode = y\n",
    "y.prevNode = x\n",
    "y.nextNode = z\n",
    "z.prevNode = y"
   ]
  },
  {
   "cell_type": "code",
   "execution_count": 14,
   "metadata": {},
   "outputs": [
    {
     "data": {
      "text/plain": [
       "25"
      ]
     },
     "execution_count": 14,
     "metadata": {},
     "output_type": "execute_result"
    }
   ],
   "source": [
    "x.nextNode.value"
   ]
  },
  {
   "cell_type": "code",
   "execution_count": 15,
   "metadata": {},
   "outputs": [
    {
     "data": {
      "text/plain": [
       "5"
      ]
     },
     "execution_count": 15,
     "metadata": {},
     "output_type": "execute_result"
    }
   ],
   "source": [
    "z.prevNode.prevNode.value"
   ]
  }
 ],
 "metadata": {
  "kernelspec": {
   "display_name": "Python 3.8.8 ('base')",
   "language": "python",
   "name": "python3"
  },
  "language_info": {
   "codemirror_mode": {
    "name": "ipython",
    "version": 3
   },
   "file_extension": ".py",
   "mimetype": "text/x-python",
   "name": "python",
   "nbconvert_exporter": "python",
   "pygments_lexer": "ipython3",
   "version": "3.8.8"
  },
  "orig_nbformat": 4,
  "vscode": {
   "interpreter": {
    "hash": "c3c8ed4c87010385551ca086cfee93e998268a061c0c4fea2fc5f5fb4efb51e4"
   }
  }
 },
 "nbformat": 4,
 "nbformat_minor": 2
}
