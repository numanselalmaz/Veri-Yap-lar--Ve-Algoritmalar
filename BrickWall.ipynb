{
 "cells": [
  {
   "cell_type": "code",
   "execution_count": 1,
   "metadata": {},
   "outputs": [],
   "source": [
    "class Solution:\n",
    "    def leastBricks(self,wall) -> int:\n",
    "        myHashMap = {0:0}\n",
    "\n",
    "        for row in wall:\n",
    "            gapCount = 0\n",
    "            for brick in row[:-1]:\n",
    "                gapCount += brick\n",
    "                myHashMap[gapCount] += 1 \n",
    "        \n",
    "        maximumGapNumber = max(myHashMap.values())\n",
    "        rowNumber = len(wall)\n",
    "        return rowNumber - maximumGapNumber\n"
   ]
  }
 ],
 "metadata": {
  "kernelspec": {
   "display_name": "Python 3.8.8 ('base')",
   "language": "python",
   "name": "python3"
  },
  "language_info": {
   "codemirror_mode": {
    "name": "ipython",
    "version": 3
   },
   "file_extension": ".py",
   "mimetype": "text/x-python",
   "name": "python",
   "nbconvert_exporter": "python",
   "pygments_lexer": "ipython3",
   "version": "3.8.8"
  },
  "orig_nbformat": 4,
  "vscode": {
   "interpreter": {
    "hash": "c3c8ed4c87010385551ca086cfee93e998268a061c0c4fea2fc5f5fb4efb51e4"
   }
  }
 },
 "nbformat": 4,
 "nbformat_minor": 2
}
