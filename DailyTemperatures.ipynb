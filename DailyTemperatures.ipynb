{
 "cells": [
  {
   "cell_type": "code",
   "execution_count": 27,
   "metadata": {},
   "outputs": [],
   "source": [
    "temps = [71,72,73,70,76,77,60]"
   ]
  },
  {
   "cell_type": "code",
   "execution_count": 43,
   "metadata": {},
   "outputs": [
    {
     "name": "stdout",
     "output_type": "stream",
     "text": [
      "[[77, 5], [60, 6]]\n",
      "[1, 1, 2, 1, 1, 0, 0]\n"
     ]
    }
   ],
   "source": [
    "output = [0] * len(temps)\n",
    "stack = []\n",
    "for ix, temp in enumerate(temps):\n",
    "    while stack and temp > stack[-1][0]:\n",
    "        stacktemp, stackindex = stack.pop()\n",
    "        output[stackindex] = ix - stackindex\n",
    "    stack.append([temp,ix])\n",
    "print(stack)\n",
    "print(output)"
   ]
  },
  {
   "cell_type": "code",
   "execution_count": null,
   "metadata": {},
   "outputs": [],
   "source": []
  }
 ],
 "metadata": {
  "kernelspec": {
   "display_name": "Python 3.8.8 ('base')",
   "language": "python",
   "name": "python3"
  },
  "language_info": {
   "codemirror_mode": {
    "name": "ipython",
    "version": 3
   },
   "file_extension": ".py",
   "mimetype": "text/x-python",
   "name": "python",
   "nbconvert_exporter": "python",
   "pygments_lexer": "ipython3",
   "version": "3.8.8"
  },
  "orig_nbformat": 4,
  "vscode": {
   "interpreter": {
    "hash": "c3c8ed4c87010385551ca086cfee93e998268a061c0c4fea2fc5f5fb4efb51e4"
   }
  }
 },
 "nbformat": 4,
 "nbformat_minor": 2
}
