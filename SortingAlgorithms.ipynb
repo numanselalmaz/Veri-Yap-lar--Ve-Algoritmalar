{
 "cells": [
  {
   "cell_type": "code",
   "execution_count": 1,
   "metadata": {},
   "outputs": [
    {
     "ename": "IndentationError",
     "evalue": "expected an indented block (3209897617.py, line 66)",
     "output_type": "error",
     "traceback": [
      "\u001b[1;36m  File \u001b[1;32m\"C:\\Users\\numan\\AppData\\Local\\Temp\\ipykernel_18388\\3209897617.py\"\u001b[1;36m, line \u001b[1;32m66\u001b[0m\n\u001b[1;33m    \u001b[0m\n\u001b[1;37m    ^\u001b[0m\n\u001b[1;31mIndentationError\u001b[0m\u001b[1;31m:\u001b[0m expected an indented block\n"
     ]
    }
   ],
   "source": [
    "class SortingAlgorithms:\n",
    "\n",
    "    def bubbleSort(self, arr):\n",
    "        for i in range(len(arr) -1, 0, -1):\n",
    "            for j in range(i):\n",
    "                if arr[j] >  arr[j+1]:\n",
    "                    arr[j], arr[j+1] = arr[j+1], arr[j]\n",
    "        return arr\n",
    "    \n",
    "    def selectionSort(self, arr):\n",
    "        for i in range(len(arr)-1):\n",
    "            minIndex = i\n",
    "            for j in range(i+1, len(arr)):\n",
    "                if arr[j] < arr[minIndex]:\n",
    "                    minIndex = j\n",
    "            if i != minIndex:\n",
    "                arr[i], arr[minIndex] = arr[minIndex], arr[i]\n",
    "        return arr\n",
    "    \n",
    "    def insertionSort(self, arr):\n",
    "        for i in range(1, len(arr)):\n",
    "            temp = arr[i]\n",
    "            j = i - 1\n",
    "            while temp < arr[j] and j > -1:\n",
    "                arr[j+1] = arr[j]\n",
    "                arr[j] = temp\n",
    "                j -=1\n",
    "        return arr\n",
    "\n",
    "    def merge(self, arr1, arr2):\n",
    "        firstPointer = 0\n",
    "        secondPointer = 0\n",
    "        mergedList = []\n",
    "\n",
    "        while firstPointer < len(arr1) and secondPointer < len(arr2):\n",
    "            if arr1[firstPointer] < arr2[secondPointer]:\n",
    "                mergedList.append(arr1[firstPointer])\n",
    "                firstPointer += 1\n",
    "            else:\n",
    "                mergedList.append(arr2[secondPointer])\n",
    "                secondPointer += 1\n",
    "\n",
    "        while firstPointer < len(arr1):\n",
    "            mergedList.append(arr1[firstPointer])\n",
    "            firstPointer += 1 \n",
    "\n",
    "        while secondPointer < len(arr2):\n",
    "            mergedList.append(arr2[secondPointer])\n",
    "            secondPointer +=1\n",
    "        \n",
    "        return mergedList\n",
    "\n",
    "    def mergeSort(self, arr):\n",
    "        #exit condition\n",
    "        if len(arr) == 1:\n",
    "            return arr\n",
    "        \n",
    "        midPoint = int(len(arr)/2)\n",
    "        leftPart = arr[:midPoint]\n",
    "        rightPart = arr[midPoint:]\n",
    "        return self.merge(self.mergeSort(leftPart), self.mergeSort(rightPart))\n",
    "\n",
    "        \n",
    "    def pivot(self, arr, pivotIndex, endIndex):\n",
    "        swapIndex = pivotIndex\n",
    "        for i in range(pivotIndex+1, endIndex+1):\n",
    "            \n",
    "    \n",
    "    \n",
    "    \n",
    "    def quickSort(self, arr, leftPointer=0, rightPointer=None):\n",
    "        if rightPointer ==None:\n"
   ]
  },
  {
   "cell_type": "code",
   "execution_count": 2,
   "metadata": {},
   "outputs": [],
   "source": [
    "sorting = SortingAlgorithms()"
   ]
  },
  {
   "cell_type": "code",
   "execution_count": 3,
   "metadata": {},
   "outputs": [
    {
     "data": {
      "text/plain": [
       "[1, 3, 4, 5, 9, 10]"
      ]
     },
     "execution_count": 3,
     "metadata": {},
     "output_type": "execute_result"
    }
   ],
   "source": [
    "sorting.bubbleSort([5,1,3,4,9,10])"
   ]
  },
  {
   "cell_type": "code",
   "execution_count": 4,
   "metadata": {},
   "outputs": [
    {
     "data": {
      "text/plain": [
       "[1, 3, 4, 5, 9, 10]"
      ]
     },
     "execution_count": 4,
     "metadata": {},
     "output_type": "execute_result"
    }
   ],
   "source": [
    "sorting.selectionSort([5,1,3,4,9,10])"
   ]
  },
  {
   "cell_type": "code",
   "execution_count": 5,
   "metadata": {},
   "outputs": [
    {
     "data": {
      "text/plain": [
       "[1, 3, 4, 5, 9, 10]"
      ]
     },
     "execution_count": 5,
     "metadata": {},
     "output_type": "execute_result"
    }
   ],
   "source": [
    "sorting.insertionSort([5,1,3,4,9,10])"
   ]
  },
  {
   "cell_type": "code",
   "execution_count": 6,
   "metadata": {},
   "outputs": [
    {
     "data": {
      "text/plain": [
       "[1, 3, 4, 5, 9, 10]"
      ]
     },
     "execution_count": 6,
     "metadata": {},
     "output_type": "execute_result"
    }
   ],
   "source": [
    "sorting.mergeSort([5,1,3,4,9,10])"
   ]
  }
 ],
 "metadata": {
  "kernelspec": {
   "display_name": "base",
   "language": "python",
   "name": "python3"
  },
  "language_info": {
   "codemirror_mode": {
    "name": "ipython",
    "version": 3
   },
   "file_extension": ".py",
   "mimetype": "text/x-python",
   "name": "python",
   "nbconvert_exporter": "python",
   "pygments_lexer": "ipython3",
   "version": "3.9.13"
  },
  "orig_nbformat": 4,
  "vscode": {
   "interpreter": {
    "hash": "c3c8ed4c87010385551ca086cfee93e998268a061c0c4fea2fc5f5fb4efb51e4"
   }
  }
 },
 "nbformat": 4,
 "nbformat_minor": 2
}
