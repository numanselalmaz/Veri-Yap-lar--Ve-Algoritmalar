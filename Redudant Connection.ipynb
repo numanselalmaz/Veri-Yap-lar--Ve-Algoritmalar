{
 "cells": [
  {
   "cell_type": "code",
   "execution_count": 2,
   "metadata": {},
   "outputs": [],
   "source": [
    "from typing import List\n",
    "\n",
    "class Solution:\n",
    "    def findRedundantConnection(self, edges: List[List[int]]) -> List[int]:\n",
    "        parents = []\n",
    "        \n",
    "        for i in range(len(edges) + 1):\n",
    "            parents.append(i)\n",
    "\n",
    "        ranks = [1] * (len(edges) + 1)\n",
    "        \n",
    "        def find(n):\n",
    "            parent = parents[n]\n",
    "            while parent != parents[parent]:\n",
    "                parents[parent] = parents[parents[parent]]\n",
    "                parent = parents[parent]\n",
    "            return parent\n",
    "        \n",
    "        def union(n1, n2):\n",
    "            parent1, parent2 = find(n1), find(n2)\n",
    "            \n",
    "            if parent1 == parent2:\n",
    "                return False\n",
    "            \n",
    "            if ranks[parent1] > ranks[parent2]:\n",
    "                parents[parent2] = parent1\n",
    "                ranks[parent1] += ranks[parent2]\n",
    "            else:\n",
    "                parents[parent1] = parent2\n",
    "                ranks[parent2] += ranks[parent1]\n",
    "            return True\n",
    "        \n",
    "        for n1, n2 in edges:\n",
    "            if not union(n1, n2):\n",
    "                return [n1,n2]\n"
   ]
  }
 ],
 "metadata": {
  "kernelspec": {
   "display_name": "Python 3.8.8 ('base')",
   "language": "python",
   "name": "python3"
  },
  "language_info": {
   "codemirror_mode": {
    "name": "ipython",
    "version": 3
   },
   "file_extension": ".py",
   "mimetype": "text/x-python",
   "name": "python",
   "nbconvert_exporter": "python",
   "pygments_lexer": "ipython3",
   "version": "3.8.8"
  },
  "orig_nbformat": 4,
  "vscode": {
   "interpreter": {
    "hash": "c3c8ed4c87010385551ca086cfee93e998268a061c0c4fea2fc5f5fb4efb51e4"
   }
  }
 },
 "nbformat": 4,
 "nbformat_minor": 2
}
