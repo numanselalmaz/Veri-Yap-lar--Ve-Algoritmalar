{
 "cells": [
  {
   "cell_type": "code",
   "execution_count": 2,
   "metadata": {},
   "outputs": [],
   "source": [
    "ops = [\"5\",\"2\",\"C\",\"D\",\"+\"]\n"
   ]
  },
  {
   "cell_type": "code",
   "execution_count": 10,
   "metadata": {},
   "outputs": [
    {
     "name": "stdout",
     "output_type": "stream",
     "text": [
      "30\n"
     ]
    }
   ],
   "source": [
    "stack = []\n",
    "for i in ops:\n",
    "    if i ==\"C\":\n",
    "        stack.pop()\n",
    "    elif i == \"+\":\n",
    "        stack.append(stack[-1] + stack[-2])\n",
    "    elif i ==\"D\":\n",
    "        stack.append(2 * stack[-1])\n",
    "    else:\n",
    "        stack.append(int(i))\n",
    "\n",
    "print(sum(stack))"
   ]
  }
 ],
 "metadata": {
  "kernelspec": {
   "display_name": "Python 3.8.8 ('base')",
   "language": "python",
   "name": "python3"
  },
  "language_info": {
   "codemirror_mode": {
    "name": "ipython",
    "version": 3
   },
   "file_extension": ".py",
   "mimetype": "text/x-python",
   "name": "python",
   "nbconvert_exporter": "python",
   "pygments_lexer": "ipython3",
   "version": "3.8.8"
  },
  "orig_nbformat": 4,
  "vscode": {
   "interpreter": {
    "hash": "c3c8ed4c87010385551ca086cfee93e998268a061c0c4fea2fc5f5fb4efb51e4"
   }
  }
 },
 "nbformat": 4,
 "nbformat_minor": 2
}
