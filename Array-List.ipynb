{
 "cells": [
  {
   "cell_type": "markdown",
   "metadata": {},
   "source": [
    "# Array \n",
    "1. Aynı veri tipinden çok sayıda değişken içerebilir.\n",
    "2. Bellekte Dizi(Array) için ayrılan alan sabit ve süreklidir.\n",
    "3. Soyut bir veri yapısıdır, Matematikteki sonlu dizi kavramına benzer.\n",
    "4. Diziler(Arrays) ardışık bellek adresleriyle gösterilen konumlarda saklanır.\n",
    "5. İlişkili Diziler(Referential Arrays) bellekte gösterilen yerlerde depolanabilir."
   ]
  },
  {
   "cell_type": "code",
   "execution_count": 21,
   "metadata": {},
   "outputs": [
    {
     "data": {
      "text/plain": [
       "array('i', [3, 6, 9, 12])"
      ]
     },
     "execution_count": 21,
     "metadata": {},
     "output_type": "execute_result"
    }
   ],
   "source": [
    "import array as arr\n",
    "myarray = arr.array(\"i\",[3,6,9,12])\n",
    "myarray"
   ]
  },
  {
   "cell_type": "markdown",
   "metadata": {},
   "source": [
    "# Listeler\n",
    "1. Bellekte Listeler  için ayrılan alan rastgele ve dinamiktir. "
   ]
  },
  {
   "cell_type": "code",
   "execution_count": 22,
   "metadata": {},
   "outputs": [],
   "source": [
    "myList = [1,2,3,4,5]\n",
    "otherList = [6,7,8]\n",
    "myList.extend(otherList)\n"
   ]
  },
  {
   "cell_type": "code",
   "execution_count": 23,
   "metadata": {},
   "outputs": [
    {
     "data": {
      "text/plain": [
       "[0, 0, 0, 0, 3, 0, 0, 0]"
      ]
     },
     "execution_count": 23,
     "metadata": {},
     "output_type": "execute_result"
    }
   ],
   "source": [
    "#0 referans alınarak yapılan işlem sonucu 8 eleman olmasına karşın tek bir noktada saklanır.\n",
    "#Eğer farklı bir değer yüklersek listemize o değer ayrı bir noktada saklanır.\n",
    "result = [0] * 8 \n",
    "result\n",
    "result[4] = 3 \n",
    "result"
   ]
  },
  {
   "cell_type": "code",
   "execution_count": 24,
   "metadata": {},
   "outputs": [
    {
     "name": "stdout",
     "output_type": "stream",
     "text": [
      "Length: 0 Byte: 56\n",
      "Length: 1 Byte: 88\n",
      "Length: 2 Byte: 88\n",
      "Length: 3 Byte: 88\n",
      "Length: 4 Byte: 88\n",
      "Length: 5 Byte: 120\n",
      "Length: 6 Byte: 120\n",
      "Length: 7 Byte: 120\n",
      "Length: 8 Byte: 120\n",
      "Length: 9 Byte: 184\n",
      "Length: 10 Byte: 184\n",
      "Length: 11 Byte: 184\n",
      "Length: 12 Byte: 184\n",
      "Length: 13 Byte: 184\n",
      "Length: 14 Byte: 184\n",
      "Length: 15 Byte: 184\n",
      "Length: 16 Byte: 184\n",
      "Length: 17 Byte: 256\n",
      "Length: 18 Byte: 256\n",
      "Length: 19 Byte: 256\n",
      "Length: 20 Byte: 256\n",
      "Length: 21 Byte: 256\n",
      "Length: 22 Byte: 256\n",
      "Length: 23 Byte: 256\n",
      "Length: 24 Byte: 256\n",
      "Length: 25 Byte: 256\n",
      "Length: 26 Byte: 336\n",
      "Length: 27 Byte: 336\n",
      "Length: 28 Byte: 336\n",
      "Length: 29 Byte: 336\n",
      "Length: 30 Byte: 336\n",
      "Length: 31 Byte: 336\n",
      "Length: 32 Byte: 336\n",
      "Length: 33 Byte: 336\n",
      "Length: 34 Byte: 336\n",
      "Length: 35 Byte: 336\n",
      "Length: 36 Byte: 424\n",
      "Length: 37 Byte: 424\n",
      "Length: 38 Byte: 424\n",
      "Length: 39 Byte: 424\n"
     ]
    }
   ],
   "source": [
    "#Python listeleri sonsuz elemanlı olarak ayarlamaz. Bu sizin ihtiyacınıza göre şekillenir.\n",
    "import sys \n",
    "m = 40\n",
    "myDynamicArray = []\n",
    "for i in range(m):\n",
    "    \n",
    "    MyLength = len(myDynamicArray)\n",
    "    myByte = sys.getsizeof(myDynamicArray)\n",
    "    print(f\"Length: {MyLength} Byte: {myByte}\")\n",
    "    myDynamicArray.append(m)"
   ]
  },
  {
   "cell_type": "markdown",
   "metadata": {},
   "source": [
    "# Contains Duplicate"
   ]
  },
  {
   "cell_type": "code",
   "execution_count": 25,
   "metadata": {},
   "outputs": [
    {
     "name": "stdout",
     "output_type": "stream",
     "text": [
      "True\n"
     ]
    }
   ],
   "source": [
    "#Bir tamsayı dizi numarası verildiğinde, dizide herhangi bir değer en az iki kez görünüyorsa true ve her öğe farklıysa false döndürür\n",
    "n  = [1,2,3,1]\n",
    "def first_solution(a):\n",
    "    if len(set(a)) == len(a):\n",
    "        print(\"False\")\n",
    "    else:\n",
    "        print(\"True\")\n",
    "first_solution(n)\n",
    "#Time Comp = O(n), Space Comp = O(n)"
   ]
  },
  {
   "cell_type": "code",
   "execution_count": 26,
   "metadata": {},
   "outputs": [
    {
     "data": {
      "text/plain": [
       "False"
      ]
     },
     "execution_count": 26,
     "metadata": {},
     "output_type": "execute_result"
    }
   ],
   "source": [
    "#Örnek olarak bıraktığım çözüm yöntemi.\n",
    "def second_solution(a): \n",
    "    x = set()\n",
    "    for num in x:\n",
    "        if num in x:\n",
    "            return True\n",
    "        x.add(num)\n",
    "    return False\n",
    "second_solution(n)            "
   ]
  },
  {
   "cell_type": "code",
   "execution_count": 27,
   "metadata": {},
   "outputs": [
    {
     "data": {
      "text/plain": [
       "True"
      ]
     },
     "execution_count": 27,
     "metadata": {},
     "output_type": "execute_result"
    }
   ],
   "source": [
    "def third_solution(a):\n",
    "    return len(a) != len(set(a))\n",
    "third_solution(n)"
   ]
  },
  {
   "cell_type": "markdown",
   "metadata": {},
   "source": [
    "# Single Number"
   ]
  },
  {
   "cell_type": "code",
   "execution_count": 28,
   "metadata": {},
   "outputs": [
    {
     "data": {
      "text/plain": [
       "8"
      ]
     },
     "execution_count": 28,
     "metadata": {},
     "output_type": "execute_result"
    }
   ],
   "source": [
    "#Runtime : 251ms , Memory : 17.1 MB\n",
    "d = [1,2,3,4,4,5,1,2]\n",
    "sum(set(d))*2 - sum(d)"
   ]
  },
  {
   "cell_type": "code",
   "execution_count": 29,
   "metadata": {},
   "outputs": [
    {
     "data": {
      "text/plain": [
       "6"
      ]
     },
     "execution_count": 29,
     "metadata": {},
     "output_type": "execute_result"
    }
   ],
   "source": [
    "#Bit Manipulation\n",
    "#XOR GATE : Python Operator ==> ^\n",
    "#Runtime : 172ms , Memory : 16.7 MB\n",
    "def XOR(a):\n",
    "    result = 0\n",
    "    for num in a:\n",
    "        result = num ^ result\n",
    "    return result\n",
    "\n",
    "XOR(d)"
   ]
  },
  {
   "cell_type": "markdown",
   "metadata": {},
   "source": [
    "# MAJORITY ELEMENT\n",
    "Sayıları n olan bir dizi verildiğinde, çoğunluk öğesini döndürün. Çoğunluk öğesi, ⌊n / 2⌋ kereden fazla görünen öğedir. Çoğunluk öğesinin dizide her zaman var olduğunu varsayabilirsiniz.\n"
   ]
  },
  {
   "cell_type": "code",
   "execution_count": 30,
   "metadata": {},
   "outputs": [],
   "source": [
    "e = [2,3,4,1,1,1,1,1,5,5,5]\n",
    "def first_major(a):\n",
    "    numbers = {}\n",
    "    result = 0\n",
    "    maxNumber = 0\n",
    "    for num in a:\n",
    "        numbers[num] = 1 + numbers.get(num,0)\n",
    "        if numbers[num] > maxNumber:\n",
    "            result = num\n",
    "\n",
    "        maxNumber = max(maxNumber, numbers[num])\n",
    "    return result \n",
    "            \n"
   ]
  },
  {
   "cell_type": "code",
   "execution_count": 31,
   "metadata": {},
   "outputs": [
    {
     "data": {
      "text/plain": [
       "1"
      ]
     },
     "execution_count": 31,
     "metadata": {},
     "output_type": "execute_result"
    }
   ],
   "source": [
    "first_major(e)"
   ]
  },
  {
   "cell_type": "code",
   "execution_count": 32,
   "metadata": {},
   "outputs": [
    {
     "data": {
      "text/plain": [
       "1"
      ]
     },
     "execution_count": 32,
     "metadata": {},
     "output_type": "execute_result"
    }
   ],
   "source": [
    "#Boyer Moore Algoritması\n",
    "def boyermoore(a):\n",
    "    result = 0\n",
    "    count = 0\n",
    "\n",
    "    for num in a:\n",
    "        if count == 0:\n",
    "            result = num\n",
    "        if num == result: \n",
    "            count += 1 \n",
    "        else:\n",
    "            count -= 1\n",
    "    return result\n",
    "\n",
    "boyermoore(e)"
   ]
  }
 ],
 "metadata": {
  "kernelspec": {
   "display_name": "Python 3.8.8 ('base')",
   "language": "python",
   "name": "python3"
  },
  "language_info": {
   "codemirror_mode": {
    "name": "ipython",
    "version": 3
   },
   "file_extension": ".py",
   "mimetype": "text/x-python",
   "name": "python",
   "nbconvert_exporter": "python",
   "pygments_lexer": "ipython3",
   "version": "3.8.8"
  },
  "orig_nbformat": 4,
  "vscode": {
   "interpreter": {
    "hash": "c3c8ed4c87010385551ca086cfee93e998268a061c0c4fea2fc5f5fb4efb51e4"
   }
  }
 },
 "nbformat": 4,
 "nbformat_minor": 2
}
