{
 "cells": [
  {
   "cell_type": "code",
   "execution_count": 11,
   "metadata": {},
   "outputs": [],
   "source": [
    "list = [1,2,3,4,5,6,7,8,9,9]\n",
    "def floydSolution(list):\n",
    "    slowpointer = 0\n",
    "    fastpointer = 0\n",
    "\n",
    "    while True:\n",
    "        slowpointer = list[slowpointer]\n",
    "        fastpointer = list[list[fastpointer]]\n",
    "        if slowpointer == fastpointer:\n",
    "            break\n",
    "    \n",
    "    secondslowpointer = 0\n",
    "\n",
    "    while True:\n",
    "        slowpointer = list[slowpointer]\n",
    "        secondslowpointer = list[secondslowpointer]\n",
    "        if slowpointer == secondslowpointer:\n",
    "            return slowpointer\n"
   ]
  },
  {
   "cell_type": "code",
   "execution_count": 12,
   "metadata": {},
   "outputs": [
    {
     "data": {
      "text/plain": [
       "9"
      ]
     },
     "execution_count": 12,
     "metadata": {},
     "output_type": "execute_result"
    }
   ],
   "source": [
    "floydSolution(list)"
   ]
  },
  {
   "cell_type": "code",
   "execution_count": null,
   "metadata": {},
   "outputs": [],
   "source": []
  }
 ],
 "metadata": {
  "kernelspec": {
   "display_name": "Python 3.8.8 ('base')",
   "language": "python",
   "name": "python3"
  },
  "language_info": {
   "codemirror_mode": {
    "name": "ipython",
    "version": 3
   },
   "file_extension": ".py",
   "mimetype": "text/x-python",
   "name": "python",
   "nbconvert_exporter": "python",
   "pygments_lexer": "ipython3",
   "version": "3.8.8"
  },
  "orig_nbformat": 4,
  "vscode": {
   "interpreter": {
    "hash": "c3c8ed4c87010385551ca086cfee93e998268a061c0c4fea2fc5f5fb4efb51e4"
   }
  }
 },
 "nbformat": 4,
 "nbformat_minor": 2
}
