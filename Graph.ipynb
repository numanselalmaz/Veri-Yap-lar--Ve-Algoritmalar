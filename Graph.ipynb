{
 "cells": [
  {
   "cell_type": "code",
   "execution_count": 4,
   "metadata": {},
   "outputs": [],
   "source": [
    "from os import terminal_size\n",
    "from IPython.utils.path import target_update\n",
    "\n",
    "\n",
    "class Graph:\n",
    "\n",
    "    def __init__(self):\n",
    "        self.adjDict = {}\n",
    "    \n",
    "    def addVertex(self, vertex):\n",
    "        if vertex not in self.adjDict.keys():\n",
    "            self.adjDict[vertex] = []\n",
    "            return True\n",
    "        return False\n",
    "\n",
    "    def addEdge(self, v1, v2):\n",
    "        if v1 in self.adjDict.keys() and v2 in self.adjDict.keys():\n",
    "            self.adjDict[v1].append(v2)\n",
    "            self.adjDict[v2].append(v1)\n",
    "            return True\n",
    "        return False\n",
    "\n",
    "\n",
    "    def removeEdge(self, v1, v2):\n",
    "        if v1 in self.adjDict.keys() and v2 in self.adjDict.keys():\n",
    "            try:\n",
    "                self.adjDict[v1].remove(v2)\n",
    "                self.adjDict[v2].remove(v1)\n",
    "            except ValueError:\n",
    "                pass\n",
    "            return True\n",
    "        return False\n",
    "    \n",
    "    def removeVertex(self, vertex):\n",
    "        if vertex in self.adjDict.keys():\n",
    "            for relatedVertex in self.adjDict[vertex]:\n",
    "                self.adjDict[relatedVertex].remove(vertex)\n",
    "            del self.adjDict[vertex]\n",
    "            return True\n",
    "        return False\n",
    "\n",
    "    \n",
    "    def printGraph(self):\n",
    "        for vertex in self.adjDict:\n",
    "            print(vertex, \"->\", self.adjDict[vertex])\n"
   ]
  },
  {
   "cell_type": "code",
   "execution_count": 5,
   "metadata": {},
   "outputs": [
    {
     "data": {
      "text/plain": [
       "True"
      ]
     },
     "execution_count": 5,
     "metadata": {},
     "output_type": "execute_result"
    }
   ],
   "source": [
    "myGraph = Graph()\n",
    "myGraph.addVertex(\"IST\")\n",
    "myGraph.addVertex(\"ANK\")\n",
    "myGraph.addVertex(\"KAS\")\n",
    "myGraph.addVertex(\"TUN\")\n",
    "\n",
    "myGraph.addEdge(\"IST\",\"ANK\")\n",
    "myGraph.addEdge(\"IST\",\"KAS\")\n",
    "myGraph.addEdge(\"KAS\",\"ANK\")\n",
    "myGraph.addEdge(\"ANK\",\"TUN\")"
   ]
  },
  {
   "cell_type": "code",
   "execution_count": 6,
   "metadata": {},
   "outputs": [
    {
     "name": "stdout",
     "output_type": "stream",
     "text": [
      "IST -> ['ANK', 'KAS']\n",
      "ANK -> ['IST', 'KAS', 'TUN']\n",
      "KAS -> ['IST', 'ANK']\n",
      "TUN -> ['ANK']\n"
     ]
    }
   ],
   "source": [
    "myGraph.printGraph()"
   ]
  },
  {
   "cell_type": "code",
   "execution_count": 8,
   "metadata": {},
   "outputs": [
    {
     "name": "stdout",
     "output_type": "stream",
     "text": [
      "IST -> ['ANK', 'KAS']\n",
      "ANK -> ['IST', 'KAS']\n",
      "KAS -> ['IST', 'ANK']\n"
     ]
    }
   ],
   "source": [
    "myGraph.removeVertex(\"TUN\")\n",
    "myGraph.printGraph()"
   ]
  },
  {
   "cell_type": "code",
   "execution_count": 9,
   "metadata": {},
   "outputs": [
    {
     "name": "stdout",
     "output_type": "stream",
     "text": [
      "IST -> ['ANK']\n",
      "ANK -> ['IST', 'KAS']\n",
      "KAS -> ['ANK']\n"
     ]
    }
   ],
   "source": [
    "myGraph.removeEdge(\"IST\",\"KAS\")\n",
    "myGraph.printGraph()"
   ]
  }
 ],
 "metadata": {
  "kernelspec": {
   "display_name": "Python 3.8.8 ('base')",
   "language": "python",
   "name": "python3"
  },
  "language_info": {
   "codemirror_mode": {
    "name": "ipython",
    "version": 3
   },
   "file_extension": ".py",
   "mimetype": "text/x-python",
   "name": "python",
   "nbconvert_exporter": "python",
   "pygments_lexer": "ipython3",
   "version": "3.8.8"
  },
  "orig_nbformat": 4,
  "vscode": {
   "interpreter": {
    "hash": "c3c8ed4c87010385551ca086cfee93e998268a061c0c4fea2fc5f5fb4efb51e4"
   }
  }
 },
 "nbformat": 4,
 "nbformat_minor": 2
}
