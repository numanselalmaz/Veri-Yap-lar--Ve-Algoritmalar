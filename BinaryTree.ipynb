{
 "cells": [
  {
   "cell_type": "code",
   "execution_count": 1,
   "metadata": {},
   "outputs": [],
   "source": [
    "class Node:\n",
    "    def __init__(self, value):\n",
    "        self.value = value\n",
    "        self.left = None\n",
    "        self.right = None\n",
    "        "
   ]
  },
  {
   "cell_type": "code",
   "execution_count": 15,
   "metadata": {},
   "outputs": [],
   "source": [
    "class BinarySearchTree:\n",
    "    \n",
    "    def __init__(self):\n",
    "        \n",
    "        self.root = None\n",
    "    \n",
    "    def insert(self, value):\n",
    "\n",
    "        newNode = Node(value)\n",
    "\n",
    "        if self.root is None:\n",
    "\n",
    "            self.root = newNode\n",
    "            return True\n",
    "        tempNode = self.root\n",
    "        while True:\n",
    "\n",
    "            if newNode.value == tempNode.value:\n",
    "                return False\n",
    "\n",
    "            if newNode.value < tempNode.value:\n",
    "                if tempNode.left is None:\n",
    "                    tempNode.left = newNode\n",
    "                    return True\n",
    "                tempNode = tempNode.left\n",
    "            \n",
    "            else:\n",
    "                if tempNode.right is None:\n",
    "                    tempNode.right = newNode\n",
    "                    return True\n",
    "                tempNode = tempNode.right\n",
    "    def contains(self, value):\n",
    "        tempNode = self.root\n",
    "        while tempNode:\n",
    "            if value < tempNode.value:\n",
    "                tempNode = tempNode.left\n",
    "            elif value > tempNode.value:\n",
    "                tempNode = tempNode.right\n",
    "            else:\n",
    "                return True\n",
    "\n",
    "        return False\n",
    "    \n",
    "    def minOfNode(self, currentNode):\n",
    "        while currentNode.left:\n",
    "            currentNode = currentNode.left\n",
    "        return currentNode\n",
    "\n",
    "    def maxOfNode(self, currentNode):\n",
    "        while currentNode.right:\n",
    "            currentNode = currentNode.right\n",
    "        return currentNode\n",
    "\n",
    "\n",
    "\n",
    "\n"
   ]
  },
  {
   "cell_type": "code",
   "execution_count": 16,
   "metadata": {},
   "outputs": [
    {
     "data": {
      "text/plain": [
       "__main__.BinarySearchTree"
      ]
     },
     "execution_count": 16,
     "metadata": {},
     "output_type": "execute_result"
    }
   ],
   "source": [
    "myTree = BinarySearchTree()\n",
    "type(myTree)"
   ]
  },
  {
   "cell_type": "code",
   "execution_count": 17,
   "metadata": {},
   "outputs": [
    {
     "data": {
      "text/plain": [
       "True"
      ]
     },
     "execution_count": 17,
     "metadata": {},
     "output_type": "execute_result"
    }
   ],
   "source": [
    "myTree.insert(10)"
   ]
  },
  {
   "cell_type": "code",
   "execution_count": 18,
   "metadata": {},
   "outputs": [
    {
     "data": {
      "text/plain": [
       "True"
      ]
     },
     "execution_count": 18,
     "metadata": {},
     "output_type": "execute_result"
    }
   ],
   "source": [
    "myTree.insert(9)"
   ]
  },
  {
   "cell_type": "code",
   "execution_count": 19,
   "metadata": {},
   "outputs": [
    {
     "data": {
      "text/plain": [
       "True"
      ]
     },
     "execution_count": 19,
     "metadata": {},
     "output_type": "execute_result"
    }
   ],
   "source": [
    "myTree.insert(20)"
   ]
  },
  {
   "cell_type": "code",
   "execution_count": 20,
   "metadata": {},
   "outputs": [
    {
     "data": {
      "text/plain": [
       "True"
      ]
     },
     "execution_count": 20,
     "metadata": {},
     "output_type": "execute_result"
    }
   ],
   "source": [
    "myTree.insert(25)"
   ]
  },
  {
   "cell_type": "code",
   "execution_count": 21,
   "metadata": {},
   "outputs": [
    {
     "data": {
      "text/plain": [
       "True"
      ]
     },
     "execution_count": 21,
     "metadata": {},
     "output_type": "execute_result"
    }
   ],
   "source": [
    "myTree.contains(10)"
   ]
  },
  {
   "cell_type": "code",
   "execution_count": 23,
   "metadata": {},
   "outputs": [
    {
     "data": {
      "text/plain": [
       "10"
      ]
     },
     "execution_count": 23,
     "metadata": {},
     "output_type": "execute_result"
    }
   ],
   "source": [
    "myTree.root.value"
   ]
  },
  {
   "cell_type": "code",
   "execution_count": 24,
   "metadata": {},
   "outputs": [
    {
     "data": {
      "text/plain": [
       "25"
      ]
     },
     "execution_count": 24,
     "metadata": {},
     "output_type": "execute_result"
    }
   ],
   "source": [
    "myTree.root.right.right.value"
   ]
  },
  {
   "cell_type": "code",
   "execution_count": 25,
   "metadata": {},
   "outputs": [
    {
     "data": {
      "text/plain": [
       "9"
      ]
     },
     "execution_count": 25,
     "metadata": {},
     "output_type": "execute_result"
    }
   ],
   "source": [
    "myTree.root.left.value"
   ]
  },
  {
   "cell_type": "code",
   "execution_count": 29,
   "metadata": {},
   "outputs": [
    {
     "data": {
      "text/plain": [
       "9"
      ]
     },
     "execution_count": 29,
     "metadata": {},
     "output_type": "execute_result"
    }
   ],
   "source": [
    "myTree.minOfNode(myTree.root).value"
   ]
  },
  {
   "cell_type": "code",
   "execution_count": 30,
   "metadata": {},
   "outputs": [
    {
     "data": {
      "text/plain": [
       "25"
      ]
     },
     "execution_count": 30,
     "metadata": {},
     "output_type": "execute_result"
    }
   ],
   "source": [
    "myTree.maxOfNode(myTree.root).value"
   ]
  }
 ],
 "metadata": {
  "kernelspec": {
   "display_name": "Python 3.8.8 ('base')",
   "language": "python",
   "name": "python3"
  },
  "language_info": {
   "codemirror_mode": {
    "name": "ipython",
    "version": 3
   },
   "file_extension": ".py",
   "mimetype": "text/x-python",
   "name": "python",
   "nbconvert_exporter": "python",
   "pygments_lexer": "ipython3",
   "version": "3.8.8"
  },
  "orig_nbformat": 4,
  "vscode": {
   "interpreter": {
    "hash": "c3c8ed4c87010385551ca086cfee93e998268a061c0c4fea2fc5f5fb4efb51e4"
   }
  }
 },
 "nbformat": 4,
 "nbformat_minor": 2
}
