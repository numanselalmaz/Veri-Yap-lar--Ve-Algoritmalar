{
 "cells": [
  {
   "cell_type": "code",
   "execution_count": 20,
   "metadata": {},
   "outputs": [],
   "source": [
    "def hashFunction(key):\n",
    "    myHash = 0 \n",
    "    for letter in key: \n",
    "        myHash = (myHash + ord(letter) * 13)\n",
    "    return myHash  "
   ]
  },
  {
   "cell_type": "code",
   "execution_count": 21,
   "metadata": {},
   "outputs": [
    {
     "data": {
      "text/plain": [
       "6890"
      ]
     },
     "execution_count": 21,
     "metadata": {},
     "output_type": "execute_result"
    }
   ],
   "source": [
    "hashFunction('apple')"
   ]
  },
  {
   "cell_type": "code",
   "execution_count": 22,
   "metadata": {},
   "outputs": [
    {
     "data": {
      "text/plain": [
       "6890"
      ]
     },
     "execution_count": 22,
     "metadata": {},
     "output_type": "execute_result"
    }
   ],
   "source": [
    "hashFunction('apple')"
   ]
  },
  {
   "cell_type": "code",
   "execution_count": 23,
   "metadata": {},
   "outputs": [
    {
     "data": {
      "text/plain": [
       "7059"
      ]
     },
     "execution_count": 23,
     "metadata": {},
     "output_type": "execute_result"
    }
   ],
   "source": [
    "hashFunction('numan')"
   ]
  },
  {
   "cell_type": "code",
   "execution_count": 24,
   "metadata": {},
   "outputs": [
    {
     "data": {
      "text/plain": [
       "97"
      ]
     },
     "execution_count": 24,
     "metadata": {},
     "output_type": "execute_result"
    }
   ],
   "source": [
    "#ord built-in-function tek bir değer ile çalışır.\n",
    "ord('a')"
   ]
  },
  {
   "cell_type": "code",
   "execution_count": 25,
   "metadata": {},
   "outputs": [],
   "source": [
    "class HashTable:\n",
    "\n",
    "    def __init__(self, size=13):\n",
    "        self.dataMap = [None] * size \n",
    "    \n",
    "    def hashFunction(self,key):\n",
    "        myHash = 0 \n",
    "        for letter in key:\n",
    "            myHash = (myHash + ord(letter) * 19) % len(self.dataMap)\n",
    "        return myHash\n",
    "    \n",
    "    def setItem(self, key, value):\n",
    "        index = self.hashFunction(key)\n",
    "        if self.dataMap[index] == None:\n",
    "            self.dataMap[index] = []\n",
    "        self.dataMap[index].append([key,value])\n",
    "\n",
    "    def getItem(self, key):\n",
    "        index = self.hashFunction(key)\n",
    "        if self.dataMap[index] is not None:\n",
    "            for i in range(len(self.dataMap[index])):\n",
    "                if self.dataMap[index][i][0] == key:\n",
    "                    return self.dataMap[index][i][1]\n",
    "        \n",
    "        return None\n",
    "    def getKeys(self):\n",
    "        keys = []\n",
    "        for i in range(len(self.dataMap)):\n",
    "            if self.dataMap[i] is not None:\n",
    "                for j in range(len(self.dataMap[i])):\n",
    "                    keys.append(self.dataMap[i][j][0])\n",
    "        \n",
    "        return keys\n",
    "\n",
    "    def printTable(self):\n",
    "        for index, value in enumerate(self.dataMap):\n",
    "            print(index,\"-> \", value)\n"
   ]
  },
  {
   "cell_type": "code",
   "execution_count": 26,
   "metadata": {},
   "outputs": [
    {
     "name": "stdout",
     "output_type": "stream",
     "text": [
      "0 ->  [['Melon', 75]]\n",
      "1 ->  None\n",
      "2 ->  None\n",
      "3 ->  None\n",
      "4 ->  [['Banana', 150]]\n",
      "5 ->  None\n",
      "6 ->  None\n",
      "7 ->  None\n",
      "8 ->  None\n",
      "9 ->  None\n",
      "10 ->  None\n",
      "11 ->  [['Apple', 100]]\n",
      "12 ->  None\n"
     ]
    }
   ],
   "source": [
    "myHashTable = HashTable()\n",
    "myHashTable.setItem(\"Apple\",100)\n",
    "myHashTable.setItem(\"Banana\",150)\n",
    "myHashTable.setItem(\"Melon\",75)\n",
    "\n",
    "myHashTable.printTable()"
   ]
  },
  {
   "cell_type": "code",
   "execution_count": 27,
   "metadata": {},
   "outputs": [
    {
     "name": "stdout",
     "output_type": "stream",
     "text": [
      "0 ->  [['Melon', 75], ['Lemon', 150]]\n",
      "1 ->  [['Strawberry', 100]]\n",
      "2 ->  None\n",
      "3 ->  None\n",
      "4 ->  [['Banana', 150]]\n",
      "5 ->  None\n",
      "6 ->  [['Watermelon', 300]]\n",
      "7 ->  None\n",
      "8 ->  None\n",
      "9 ->  None\n",
      "10 ->  None\n",
      "11 ->  [['Apple', 100]]\n",
      "12 ->  None\n"
     ]
    }
   ],
   "source": [
    "myHashTable.setItem('Watermelon', 300)\n",
    "myHashTable.setItem('Strawberry', 100)\n",
    "myHashTable.setItem('Lemon',150)\n",
    "\n",
    "myHashTable.printTable()"
   ]
  },
  {
   "cell_type": "code",
   "execution_count": 28,
   "metadata": {},
   "outputs": [
    {
     "data": {
      "text/plain": [
       "75"
      ]
     },
     "execution_count": 28,
     "metadata": {},
     "output_type": "execute_result"
    }
   ],
   "source": [
    "myHashTable.getItem('Melon')"
   ]
  },
  {
   "cell_type": "code",
   "execution_count": 29,
   "metadata": {},
   "outputs": [
    {
     "data": {
      "text/plain": [
       "150"
      ]
     },
     "execution_count": 29,
     "metadata": {},
     "output_type": "execute_result"
    }
   ],
   "source": [
    "myHashTable.getItem('Lemon')"
   ]
  },
  {
   "cell_type": "code",
   "execution_count": 30,
   "metadata": {},
   "outputs": [
    {
     "data": {
      "text/plain": [
       "['Melon', 'Lemon', 'Strawberry', 'Banana', 'Watermelon', 'Apple']"
      ]
     },
     "execution_count": 30,
     "metadata": {},
     "output_type": "execute_result"
    }
   ],
   "source": [
    "myHashTable.getKeys()"
   ]
  }
 ],
 "metadata": {
  "kernelspec": {
   "display_name": "Python 3.8.8 ('base')",
   "language": "python",
   "name": "python3"
  },
  "language_info": {
   "codemirror_mode": {
    "name": "ipython",
    "version": 3
   },
   "file_extension": ".py",
   "mimetype": "text/x-python",
   "name": "python",
   "nbconvert_exporter": "python",
   "pygments_lexer": "ipython3",
   "version": "3.8.8"
  },
  "orig_nbformat": 4,
  "vscode": {
   "interpreter": {
    "hash": "c3c8ed4c87010385551ca086cfee93e998268a061c0c4fea2fc5f5fb4efb51e4"
   }
  }
 },
 "nbformat": 4,
 "nbformat_minor": 2
}
