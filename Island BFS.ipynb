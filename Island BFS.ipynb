{
 "cells": [
  {
   "cell_type": "code",
   "execution_count": 2,
   "metadata": {},
   "outputs": [],
   "source": [
    "from typing import List\n",
    "\n",
    "class Solution:\n",
    "    def numIslands(self, grid: List[List[str]]) -> int:\n",
    "        if not grid:\n",
    "            return 0\n",
    "        \n",
    "        rowNumber = len(grid)\n",
    "        columnNumber = len(grid[0])\n",
    "        \n",
    "        visited = set()\n",
    "        \n",
    "        islandCounter = 0\n",
    "        \n",
    "        def bfs(row,column):\n",
    "            myQueue = []\n",
    "            \n",
    "            visited.add((row,column))\n",
    "            myQueue.append((row,column))\n",
    "            \n",
    "            \n",
    "            while len(myQueue) != 0:\n",
    "                row,column = myQueue.pop(0)\n",
    "                myDirections = [[1,0],[-1,0],[0,1],[0,-1]]\n",
    "                \n",
    "                for rowDirection, columnDirection in myDirections:\n",
    "                    newRow = row + rowDirection\n",
    "                    newColumn = column + columnDirection\n",
    "                    \n",
    "                    if(newRow in range(rowNumber) and\n",
    "                      newColumn in range(columnNumber) and\n",
    "                       grid[newRow][newColumn] == \"1\" and\n",
    "                       (newRow, newColumn) not in visited):\n",
    "                        myQueue.append((newRow, newColumn))\n",
    "                        visited.add((newRow, newColumn))\n",
    "                        \n",
    "            \n",
    "        for row in range(rowNumber):\n",
    "            for column in range(columnNumber):\n",
    "                if grid[row][column] == \"1\" and (row,column) not in visited:\n",
    "                    bfs(row,column)\n",
    "                    islandCounter += 1\n",
    "                        \n",
    "        return islandCounter"
   ]
  }
 ],
 "metadata": {
  "kernelspec": {
   "display_name": "Python 3.8.8 ('base')",
   "language": "python",
   "name": "python3"
  },
  "language_info": {
   "codemirror_mode": {
    "name": "ipython",
    "version": 3
   },
   "file_extension": ".py",
   "mimetype": "text/x-python",
   "name": "python",
   "nbconvert_exporter": "python",
   "pygments_lexer": "ipython3",
   "version": "3.8.8"
  },
  "orig_nbformat": 4,
  "vscode": {
   "interpreter": {
    "hash": "c3c8ed4c87010385551ca086cfee93e998268a061c0c4fea2fc5f5fb4efb51e4"
   }
  }
 },
 "nbformat": 4,
 "nbformat_minor": 2
}
