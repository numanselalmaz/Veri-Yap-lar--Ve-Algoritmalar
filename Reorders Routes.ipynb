{
 "cells": [
  {
   "cell_type": "code",
   "execution_count": 45,
   "metadata": {},
   "outputs": [],
   "source": [
    "from typing import List\n",
    "class Solution:\n",
    "    def minReorder(self, n: int, connections: List[List[int]]) -> int:\n",
    "\n",
    "        edges = set()\n",
    "\n",
    "        for a,b in connections:\n",
    "            edges.add((a,b))\n",
    "\n",
    "        neighbours = {}\n",
    "\n",
    "        for city in range(n):\n",
    "            neighbours[city] = []\n",
    "\n",
    "        visited = set()\n",
    "\n",
    "        counter = 0\n",
    "\n",
    "        for a,b in connections:\n",
    "            neighbours[a].append(b)\n",
    "            neighbours[b].append(a)\n",
    "        \n",
    "        def dfs(city):\n",
    "\n",
    "            nonlocal edges, neighbours, visited, counter \n",
    "\n",
    "            for neighbour in neighbours[city]:\n",
    "                if neighbour in visited:\n",
    "                    continue\n",
    "                if (neighbour,city) not in edges:\n",
    "                    counter += 1 \n",
    "\n",
    "                visited.add(neighbour)\n",
    "                dfs(neighbour)\n",
    "\n",
    "        visited.add(0)\n",
    "        dfs(0)\n",
    "        return counter \n",
    "\n",
    "            \n",
    "\n",
    "\n"
   ]
  },
  {
   "cell_type": "code",
   "execution_count": 46,
   "metadata": {},
   "outputs": [
    {
     "data": {
      "text/plain": [
       "3"
      ]
     },
     "execution_count": 46,
     "metadata": {},
     "output_type": "execute_result"
    }
   ],
   "source": [
    "ans = Solution()\n",
    "ans.minReorder(6, [[0,1],[1,3],[2,3],[4,0],[4,5]])"
   ]
  }
 ],
 "metadata": {
  "kernelspec": {
   "display_name": "Python 3.8.8 ('base')",
   "language": "python",
   "name": "python3"
  },
  "language_info": {
   "codemirror_mode": {
    "name": "ipython",
    "version": 3
   },
   "file_extension": ".py",
   "mimetype": "text/x-python",
   "name": "python",
   "nbconvert_exporter": "python",
   "pygments_lexer": "ipython3",
   "version": "3.8.8"
  },
  "orig_nbformat": 4,
  "vscode": {
   "interpreter": {
    "hash": "c3c8ed4c87010385551ca086cfee93e998268a061c0c4fea2fc5f5fb4efb51e4"
   }
  }
 },
 "nbformat": 4,
 "nbformat_minor": 2
}
