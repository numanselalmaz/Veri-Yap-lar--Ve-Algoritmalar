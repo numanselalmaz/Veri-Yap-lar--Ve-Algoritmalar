{
 "cells": [
  {
   "cell_type": "code",
   "execution_count": 24,
   "metadata": {},
   "outputs": [],
   "source": [
    "class TreeNode:\n",
    "    def __init__(self, val=0, left=None, right=None):\n",
    "        self.val = val\n",
    "        self.left = left\n",
    "        self.right = right"
   ]
  },
  {
   "cell_type": "code",
   "execution_count": 25,
   "metadata": {},
   "outputs": [],
   "source": [
    "from typing import Optional\n",
    "\n",
    "\n",
    "class Solution:\n",
    "\n",
    "    result = -float(\"inf\")\n",
    "\n",
    "    def maxPathSum(self, root: Optional[TreeNode]) -> int:\n",
    "        self.dfs(root)\n",
    "        return self.result\n",
    "\n",
    "    \n",
    "    def dfs(self, node):\n",
    "        if  node is None:\n",
    "            return 0 \n",
    "        \n",
    "        left = self.dfs(node.left)\n",
    "        right = self.dfs(node.right)\n",
    "\n",
    "        left = max(left, 0)\n",
    "        right = max(right, 0)\n",
    "\n",
    "        self.result = max(self.result, node.val + left + right)\n",
    "\n",
    "        return node.val + max(left, right)\n",
    "\n",
    "\n",
    "\n",
    "\n",
    "\n"
   ]
  },
  {
   "cell_type": "code",
   "execution_count": 28,
   "metadata": {},
   "outputs": [
    {
     "data": {
      "text/plain": [
       "42"
      ]
     },
     "execution_count": 28,
     "metadata": {},
     "output_type": "execute_result"
    }
   ],
   "source": [
    "root = TreeNode(10)\n",
    "root.left = TreeNode(2)\n",
    "root.right   = TreeNode(10)\n",
    "root.left.left  = TreeNode(20)\n",
    "root.left.right = TreeNode(1)\n",
    "root.right.right = TreeNode(-25)\n",
    "root.right.right.left   = TreeNode(3)\n",
    "root.right.right.right  = TreeNode(4)\n",
    "x = Solution()\n",
    "x.maxPathSum(root)"
   ]
  }
 ],
 "metadata": {
  "kernelspec": {
   "display_name": "Python 3.8.8 ('base')",
   "language": "python",
   "name": "python3"
  },
  "language_info": {
   "codemirror_mode": {
    "name": "ipython",
    "version": 3
   },
   "file_extension": ".py",
   "mimetype": "text/x-python",
   "name": "python",
   "nbconvert_exporter": "python",
   "pygments_lexer": "ipython3",
   "version": "3.8.8"
  },
  "orig_nbformat": 4,
  "vscode": {
   "interpreter": {
    "hash": "c3c8ed4c87010385551ca086cfee93e998268a061c0c4fea2fc5f5fb4efb51e4"
   }
  }
 },
 "nbformat": 4,
 "nbformat_minor": 2
}
