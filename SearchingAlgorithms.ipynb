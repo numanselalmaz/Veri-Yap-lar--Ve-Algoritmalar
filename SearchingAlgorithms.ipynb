{
 "cells": [
  {
   "cell_type": "code",
   "execution_count": 17,
   "metadata": {},
   "outputs": [],
   "source": [
    "class SearchingAlgorithms:\n",
    "\n",
    "    def sequantialSearchUnOrdered(self, unorderedList, number):\n",
    "        \n",
    "        ix = 0\n",
    "        found = False\n",
    "\n",
    "        while ix < len(unorderedList) and not found:\n",
    "            if unorderedList[ix] == number:\n",
    "                found = True\n",
    "            else:\n",
    "                ix += 1\n",
    "        return found\n",
    "    \n",
    "    def sequantialSearchOrdered(self, orderedList, number):\n",
    "        \n",
    "        ix = 0\n",
    "        found = False\n",
    "        tooBig = False\n",
    "\n",
    "        while ix < len(orderedList) and not found and not tooBig:\n",
    "            if orderedList[ix] == number:\n",
    "                found = True\n",
    "\n",
    "            else:\n",
    "                if orderedList[ix] > number:\n",
    "                    tooBig = True\n",
    "                else:\n",
    "                    ix += 1\n",
    "        return found\n",
    "    \n",
    "    def binarySearch(self, orderedList, number):\n",
    "        firstPointer = 0\n",
    "        lastPointer = len(orderedList) - 1\n",
    "        \n",
    "        found = False\n",
    "\n",
    "        while firstPointer <= lastPointer and not found:\n",
    "            midPoint = (firstPointer + lastPointer) // 2 \n",
    "\n",
    "            if orderedList[midPoint] == number:\n",
    "                found = True\n",
    "            else:\n",
    "                if number < orderedList[midPoint]:\n",
    "                    lastPointer = midPoint - 1 \n",
    "                else:\n",
    "                    firstPointer = midPoint + 1 \n",
    "    \n",
    "        \n",
    "        return found\n",
    "\n",
    "\n",
    "\n"
   ]
  },
  {
   "cell_type": "code",
   "execution_count": 29,
   "metadata": {},
   "outputs": [
    {
     "data": {
      "text/plain": [
       "False"
      ]
     },
     "execution_count": 29,
     "metadata": {},
     "output_type": "execute_result"
    }
   ],
   "source": [
    "search = SearchingAlgorithms()\n",
    "myList = [21,231,12,34,665,34,53,53,12]\n",
    "search.sequantialSearchUnOrdered(myList, 135)"
   ]
  },
  {
   "cell_type": "code",
   "execution_count": 30,
   "metadata": {},
   "outputs": [
    {
     "data": {
      "text/plain": [
       "False"
      ]
     },
     "execution_count": 30,
     "metadata": {},
     "output_type": "execute_result"
    }
   ],
   "source": [
    "myList.sort()\n",
    "search.sequantialSearchOrdered(myList,135)"
   ]
  },
  {
   "cell_type": "code",
   "execution_count": 31,
   "metadata": {},
   "outputs": [
    {
     "data": {
      "text/plain": [
       "False"
      ]
     },
     "execution_count": 31,
     "metadata": {},
     "output_type": "execute_result"
    }
   ],
   "source": [
    "search.binarySearch(myList, 135)"
   ]
  },
  {
   "cell_type": "code",
   "execution_count": null,
   "metadata": {},
   "outputs": [],
   "source": []
  }
 ],
 "metadata": {
  "kernelspec": {
   "display_name": "Python 3.8.8 ('base')",
   "language": "python",
   "name": "python3"
  },
  "language_info": {
   "codemirror_mode": {
    "name": "ipython",
    "version": 3
   },
   "file_extension": ".py",
   "mimetype": "text/x-python",
   "name": "python",
   "nbconvert_exporter": "python",
   "pygments_lexer": "ipython3",
   "version": "3.8.8"
  },
  "orig_nbformat": 4,
  "vscode": {
   "interpreter": {
    "hash": "c3c8ed4c87010385551ca086cfee93e998268a061c0c4fea2fc5f5fb4efb51e4"
   }
  }
 },
 "nbformat": 4,
 "nbformat_minor": 2
}
